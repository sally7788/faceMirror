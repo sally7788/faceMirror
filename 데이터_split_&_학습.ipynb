{
  "nbformat": 4,
  "nbformat_minor": 0,
  "metadata": {
    "colab": {
      "provenance": [],
      "gpuType": "T4"
    },
    "kernelspec": {
      "name": "python3",
      "display_name": "Python 3"
    },
    "language_info": {
      "name": "python"
    },
    "accelerator": "GPU"
  },
  "cells": [
    {
      "cell_type": "code",
      "execution_count": null,
      "metadata": {
        "id": "Fw2SC0Xvo1kM"
      },
      "outputs": [],
      "source": [
        "import numpy as np\n",
        "import tensorflow as tf\n",
        "from tensorflow.keras.preprocessing.image import ImageDataGenerator\n",
        "from tensorflow.keras.applications import VGG16\n",
        "from tensorflow.keras.layers import Dense, Flatten\n",
        "from tensorflow.keras.models import Model\n",
        "from tensorflow.keras.optimizers import Adam\n"
      ]
    },
    {
      "cell_type": "code",
      "source": [
        "from google.colab import drive\n",
        "drive.mount('/content/drive',force_remount=True)"
      ],
      "metadata": {
        "colab": {
          "base_uri": "https://localhost:8080/"
        },
        "id": "b5243IFvo5di",
        "outputId": "082978aa-fabe-4416-a573-e4330804e94b"
      },
      "execution_count": null,
      "outputs": [
        {
          "output_type": "stream",
          "name": "stdout",
          "text": [
            "Mounted at /content/drive\n"
          ]
        }
      ]
    },
    {
      "cell_type": "code",
      "source": [
        "\n",
        "import os\n",
        "import shutil\n",
        "import random\n",
        "\n",
        "def split_test_data(source_dir, val_dir, test_dir, val_split=0.2):\n",
        "    # Ensure destination directories exist\n",
        "    if not os.path.exists(val_dir):\n",
        "        os.makedirs(val_dir)\n",
        "    if not os.path.exists(test_dir):\n",
        "        os.makedirs(test_dir)\n",
        "\n",
        "    # List all class directories in source_dir\n",
        "    class_names = os.listdir(source_dir)\n",
        "    for class_name in class_names:\n",
        "        class_source_dir = os.path.join(source_dir, class_name)\n",
        "        class_val_dir = os.path.join(val_dir, class_name)\n",
        "        class_test_dir = os.path.join(test_dir, class_name)\n",
        "\n",
        "        if not os.path.exists(class_val_dir):\n",
        "            os.makedirs(class_val_dir)\n",
        "        if not os.path.exists(class_test_dir):\n",
        "            os.makedirs(class_test_dir)\n",
        "\n",
        "        # List all image files in the class directory\n",
        "        image_files = os.listdir(class_source_dir)\n",
        "        num_images = len(image_files)\n",
        "        num_val_images = int(num_images * val_split)\n",
        "        val_images = random.sample(image_files, num_val_images)\n",
        "\n",
        "        # Move images to validation or test directories\n",
        "        for image_file in image_files:\n",
        "            src_path = os.path.join(class_source_dir, image_file)\n",
        "            if image_file in val_images:\n",
        "                dest_path = os.path.join(class_val_dir, image_file)\n",
        "            else:\n",
        "                dest_path = os.path.join(class_test_dir, image_file)\n",
        "            shutil.copy(src_path, dest_path)\n",
        "\n",
        "        print(f\"Class '{class_name}': Moved {num_val_images} images to validation set.\")\n",
        "\n",
        "# Define paths\n",
        "source_dir = '/content/drive/MyDrive/플젝....../test_data'\n",
        "validation_dir = '/content/drive/MyDrive/플젝....../validation'\n",
        "final_test_dir = '/content/drive/MyDrive/플젝....../final_test'\n",
        "\n",
        "# Run split\n",
        "split_test_data(source_dir, validation_dir, final_test_dir)\n"
      ],
      "metadata": {
        "id": "iEoCgx3Xo6Dz",
        "colab": {
          "base_uri": "https://localhost:8080/"
        },
        "outputId": "f067fe92-e191-45e8-bf35-a4341a24e900"
      },
      "execution_count": null,
      "outputs": [
        {
          "output_type": "stream",
          "name": "stdout",
          "text": [
            "Class 'SAD': Moved 260 images to validation set.\n",
            "Class 'surprise': Moved 224 images to validation set.\n",
            "Class 'joy': Moved 316 images to validation set.\n",
            "Class 'angry': Moved 266 images to validation set.\n"
          ]
        }
      ]
    },
    {
      "cell_type": "code",
      "source": [
        "#라벨링\n",
        "import os\n",
        "import numpy as np\n",
        "from tensorflow.keras.preprocessing.image import load_img, img_to_array\n",
        "from sklearn.model_selection import train_test_split\n",
        "\n",
        "# Define paths\n",
        "train_data_folder = '/content/drive/MyDrive/플젝....../train_data'\n",
        "validation_data_folder = '/content/drive/MyDrive/플젝....../validation'\n",
        "image_size = (128, 128)  # Adjust to your input size\n",
        "\n",
        "def load_images_and_labels(data_folder):\n",
        "    images = []\n",
        "    labels = []\n",
        "\n",
        "    # List of class names and create a class to index mapping\n",
        "    class_names = sorted(os.listdir(data_folder))\n",
        "    class_dict = {name: idx for idx, name in enumerate(class_names)}\n",
        "\n",
        "    for class_name in class_names:\n",
        "        class_folder = os.path.join(data_folder, class_name)\n",
        "        for img_name in os.listdir(class_folder):\n",
        "            img_path = os.path.join(class_folder, img_name)\n",
        "            image = load_img(img_path, target_size=image_size)  # Load image and resize\n",
        "            image = img_to_array(image)  # Convert image to array\n",
        "            images.append(image)\n",
        "            labels.append(class_dict[class_name])  # Append corresponding label\n",
        "\n",
        "    # Convert lists to numpy arrays\n",
        "    images = np.array(images)\n",
        "    labels = np.array(labels)\n",
        "\n",
        "    return images, labels\n",
        "\n",
        "# Load and preprocess training data\n",
        "train_images, train_labels = load_images_and_labels(train_data_folder)\n",
        "\n",
        "# Load and preprocess validation data\n",
        "val_images, val_labels = load_images_and_labels(validation_data_folder)\n",
        "\n",
        "# Optional: Split training data into train and validation sets (if needed)\n",
        "x_train, x_val, y_train, y_val = train_test_split(train_images, train_labels, test_size=0.2, shuffle=True)\n",
        "\n",
        "# Confirm the shapes of the arrays\n",
        "print(f\"Training data shape: {x_train.shape}, Labels shape: {y_train.shape}\")\n",
        "print(f\"Validation data shape: {x_val.shape}, Labels shape: {y_val.shape}\")\n",
        "print(f\"Validation data shape: {val_images.shape}, Labels shape: {val_labels.shape}\")\n"
      ],
      "metadata": {
        "id": "x9j2-D9GvP7g"
      },
      "execution_count": null,
      "outputs": []
    },
    {
      "cell_type": "code",
      "source": [
        "from sklearn.model_selection import train_test_split\n",
        "from keras.callbacks import CSVLogger, ModelCheckpoint, EarlyStopping\n",
        "from keras.callbacks import ReduceLROnPlateau\n",
        "from tensorflow.keras.applications import MobileNetV2\n",
        "from tensorflow.keras.metrics import Precision, Recall\n",
        "from tensorflow.keras.layers import Dense, Flatten, GlobalAveragePooling2D, Dropout\n",
        "from tensorflow.keras.models import Model\n",
        "\n",
        "# parameters\n",
        "batch_size = 32\n",
        "num_epochs = 1000\n",
        "image_shape = (128,128)\n",
        "validation_split = .2\n",
        "num_classes = 4\n",
        "patience = 50\n",
        "base_path = '/content/drive/MyDrive/얼굴인식/최종데이터/model/'\n",
        "\n",
        "train_dir = '/content/drive/MyDrive/얼굴인식/최종데이터/final_test_data의 사본'\n",
        "validation_dir = '/content/drive/MyDrive/얼굴인식/최종데이터/validation_data의 사본'\n",
        "\n",
        "# Create ImageDataGenerator instances for training and validation data\n",
        "train_datagen = ImageDataGenerator(\n",
        "    rescale=1./255,  # Normalize pixel values to [0, 1]\n",
        "    rotation_range=20,\n",
        "    width_shift_range=0.3,\n",
        "    height_shift_range=0.3,\n",
        "    shear_range=0.2,\n",
        "    zoom_range=0.2,\n",
        "    horizontal_flip=True,\n",
        "    vertical_flip=True,\n",
        "    fill_mode='nearest'\n",
        ")\n",
        "\n",
        "validation_datagen = ImageDataGenerator(rescale=1./255)\n",
        "\n",
        "train_generator = train_datagen.flow_from_directory(\n",
        "    train_dir,\n",
        "    target_size=image_shape,  # Resize images to 128x128\n",
        "    batch_size=batch_size,\n",
        "    class_mode='categorical'  # For multi-class classification\n",
        ")\n",
        "\n",
        "# Load validation data\n",
        "validation_generator = validation_datagen.flow_from_directory(\n",
        "    validation_dir,\n",
        "    target_size=image_shape,\n",
        "    batch_size=batch_size,\n",
        "    class_mode='categorical'\n",
        ")\n",
        "base_model = MobileNetV2(weights='imagenet', include_top=False, input_shape=(128, 128, 3))\n",
        "# 베이스 모델의 레이어를 고정\n",
        "for layer in base_model.layers[:-20]:\n",
        "    layer.trainable = False\n",
        "\n",
        "\n",
        "x = base_model.output\n",
        "x = GlobalAveragePooling2D()(x)\n",
        "x = Dropout(0.3)(x)  # 드롭아웃 추가\n",
        "x = Dense(256, activation='relu')(x)\n",
        "x = Dense(num_classes, activation='softmax')(x)\n",
        "\n",
        "model=Model(inputs=base_model.input, outputs=x)\n",
        "\n",
        "model.compile(optimizer='adam', loss='categorical_crossentropy',\n",
        "              metrics=['accuracy', Precision(), Recall()])\n",
        "model.summary()\n",
        "\n",
        "log_file_path = base_path + '_emotion_training.log'\n",
        "csv_logger = CSVLogger(log_file_path, append=False)\n",
        "early_stop = EarlyStopping('val_loss', patience=patience, restore_best_weights=True)\n",
        "reduce_lr = ReduceLROnPlateau('val_loss', factor=0.1,\n",
        "                                  patience=int(patience/4), verbose=1)\n",
        "model_names = base_path + 'resnet.{epoch:02d}-{val_accuracy:.2f}.keras'\n",
        "model_checkpoint = ModelCheckpoint(model_names, 'val_loss', verbose=1,\n",
        "                                                    save_best_only=True)\n",
        "\n",
        "callbacks = [model_checkpoint, csv_logger, early_stop, reduce_lr]\n",
        "\n",
        "model.fit(\n",
        "    train_generator,\n",
        "    steps_per_epoch=train_generator.samples // batch_size,\n",
        "    epochs=num_epochs,\n",
        "    validation_data=validation_generator,\n",
        "    validation_steps=validation_generator.samples // batch_size,\n",
        "    callbacks=callbacks,\n",
        "    verbose=1\n",
        ")\n",
        "\n",
        "for layer in base_model.layers:\n",
        "    layer.trainable = True\n",
        "\n",
        "# 학습률을 낮춰서 재학습\n",
        "model.compile(optimizer=Adam(learning_rate=0.0001),\n",
        "              loss='categorical_crossentropy',\n",
        "              metrics=['accuracy', Precision(), Recall()])\n",
        "\n",
        "# 모델 학습 (재학습)\n",
        "model.fit(\n",
        "    train_generator,\n",
        "    steps_per_epoch=train_generator.samples // batch_size,\n",
        "    epochs=50,  # 추가 에포크\n",
        "    validation_data=validation_generator,\n",
        "    validation_steps=validation_generator.samples // batch_size,\n",
        "    callbacks=callbacks,\n",
        "    verbose=1\n",
        ")\n"
      ],
      "metadata": {
        "colab": {
          "base_uri": "https://localhost:8080/",
          "height": 218
        },
        "id": "4ZMrtM0wwhHs",
        "outputId": "5d877fd6-b4cd-4f51-a94a-2970c6f6fda1"
      },
      "execution_count": null,
      "outputs": [
        {
          "output_type": "error",
          "ename": "NameError",
          "evalue": "name 'ImageDataGenerator' is not defined",
          "traceback": [
            "\u001b[0;31m---------------------------------------------------------------------------\u001b[0m",
            "\u001b[0;31mNameError\u001b[0m                                 Traceback (most recent call last)",
            "\u001b[0;32m<ipython-input-2-04de03ce8b92>\u001b[0m in \u001b[0;36m<cell line: 22>\u001b[0;34m()\u001b[0m\n\u001b[1;32m     20\u001b[0m \u001b[0;34m\u001b[0m\u001b[0m\n\u001b[1;32m     21\u001b[0m \u001b[0;31m# Create ImageDataGenerator instances for training and validation data\u001b[0m\u001b[0;34m\u001b[0m\u001b[0;34m\u001b[0m\u001b[0m\n\u001b[0;32m---> 22\u001b[0;31m train_datagen = ImageDataGenerator(\n\u001b[0m\u001b[1;32m     23\u001b[0m     \u001b[0mrescale\u001b[0m\u001b[0;34m=\u001b[0m\u001b[0;36m1.\u001b[0m\u001b[0;34m/\u001b[0m\u001b[0;36m255\u001b[0m\u001b[0;34m,\u001b[0m  \u001b[0;31m# Normalize pixel values to [0, 1]\u001b[0m\u001b[0;34m\u001b[0m\u001b[0;34m\u001b[0m\u001b[0m\n\u001b[1;32m     24\u001b[0m     \u001b[0mrotation_range\u001b[0m\u001b[0;34m=\u001b[0m\u001b[0;36m20\u001b[0m\u001b[0;34m,\u001b[0m\u001b[0;34m\u001b[0m\u001b[0;34m\u001b[0m\u001b[0m\n",
            "\u001b[0;31mNameError\u001b[0m: name 'ImageDataGenerator' is not defined"
          ]
        }
      ]
    },
    {
      "cell_type": "code",
      "source": [
        "from tensorflow.keras.preprocessing.image import ImageDataGenerator\n",
        "from sklearn.metrics import classification_report, accuracy_score, confusion_matrix\n",
        "import numpy as np\n",
        "\n",
        "\n",
        "# Paths to test data directory\n",
        "test_dir = '/content/drive/MyDrive/플젝....../최종데이터/final_test_data'\n",
        "\n",
        "# Create ImageDataGenerator instance for test data\n",
        "test_datagen = ImageDataGenerator(rescale=1./255)\n",
        "\n",
        "test_generator = test_datagen.flow_from_directory(\n",
        "    test_dir,\n",
        "    target_size=(128,128),\n",
        "    batch_size=64,\n",
        "    class_mode='categorical',\n",
        "    shuffle=False  # Important to set shuffle=False for correct predictions mapping\n",
        ")"
      ],
      "metadata": {
        "id": "IeF5kjhj03Jz",
        "colab": {
          "base_uri": "https://localhost:8080/"
        },
        "outputId": "b0980f8a-1d58-4c64-ea18-78782690ff80"
      },
      "execution_count": null,
      "outputs": [
        {
          "output_type": "stream",
          "name": "stdout",
          "text": [
            "Found 2670 images belonging to 4 classes.\n"
          ]
        }
      ]
    },
    {
      "cell_type": "code",
      "source": [
        "\n",
        "print(f'Training samples: {train_generator.samples}')\n",
        "print(f'Validation samples: {validation_generator.samples}')"
      ],
      "metadata": {
        "id": "nRhj8h60lVwC"
      },
      "execution_count": null,
      "outputs": []
    },
    {
      "cell_type": "code",
      "source": [
        "from tensorflow.keras.models import load_model\n",
        "\n",
        "best_model_path = '/content/drive/MyDrive/플젝....../model2/resnet.28-0.92.keras'\n",
        "best_model = load_model(best_model_path)\n",
        "\n",
        "batch_size=64\n",
        "# Evaluate the best model\n",
        "test_loss, test_accuracy, test_precision, test_recall = best_model.evaluate(\n",
        "    test_generator,\n",
        "    steps=test_generator.samples // batch_size,\n",
        "    verbose=1\n",
        ")\n",
        "\n",
        "print(f\"Test Loss: {test_loss}\")\n",
        "print(f\"Test Accuracy: {test_accuracy}\")\n",
        "print(f\"Test Precision: {test_precision}\")\n",
        "print(f\"Test Recall: {test_recall}\")\n"
      ],
      "metadata": {
        "colab": {
          "base_uri": "https://localhost:8080/"
        },
        "id": "oMDDleRGD_q0",
        "outputId": "53fb9911-16e5-493f-9396-7e5aea550e20"
      },
      "execution_count": null,
      "outputs": [
        {
          "output_type": "stream",
          "name": "stdout",
          "text": [
            "\u001b[1m41/41\u001b[0m \u001b[32m━━━━━━━━━━━━━━━━━━━━\u001b[0m\u001b[37m\u001b[0m \u001b[1m1030s\u001b[0m 26s/step - accuracy: 0.7716 - loss: 0.5308 - precision_3: 0.7959 - recall_3: 0.7360\n",
            "Test Loss: 0.4839664101600647\n",
            "Test Accuracy: 0.8094512224197388\n",
            "Test Precision: 0.8396381735801697\n",
            "Test Recall: 0.7782012224197388\n"
          ]
        }
      ]
    },
    {
      "cell_type": "code",
      "source": [
        "from google.colab import drive\n",
        "drive.mount('/content/drive')"
      ],
      "metadata": {
        "colab": {
          "base_uri": "https://localhost:8080/"
        },
        "id": "clOrhcbJvLOD",
        "outputId": "05814885-478e-44f4-c318-235cc35a32e6"
      },
      "execution_count": null,
      "outputs": [
        {
          "output_type": "stream",
          "name": "stdout",
          "text": [
            "Mounted at /content/drive\n"
          ]
        }
      ]
    },
    {
      "cell_type": "code",
      "source": [
        "# Predict the classes of the test data\n",
        "test_generator.reset()\n",
        "predictions = model.predict(test_generator, steps=test_generator.samples // batch_size + 1, verbose=1)\n",
        "predicted_classes = np.argmax(predictions, axis=1)\n",
        "\n",
        "# True classes\n",
        "true_classes = test_generator.classes\n",
        "\n",
        "# Class labels\n",
        "class_labels = list(test_generator.class_indices.keys())\n",
        "\n",
        "# Print classification report\n",
        "print(\"Classification Report:\")\n",
        "print(classification_report(true_classes, predicted_classes, target_names=class_labels))\n",
        "\n",
        "# Print confusion matrix\n",
        "print(\"Confusion Matrix:\")\n",
        "cm = confusion_matrix(true_classes, predicted_classes)\n",
        "print(cm)\n"
      ],
      "metadata": {
        "id": "njxiuqLqED0c"
      },
      "execution_count": null,
      "outputs": []
    }
  ]
}